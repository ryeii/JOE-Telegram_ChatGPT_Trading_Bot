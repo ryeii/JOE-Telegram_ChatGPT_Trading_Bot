{
 "cells": [
  {
   "cell_type": "code",
   "execution_count": 7,
   "metadata": {},
   "outputs": [
    {
     "name": "stdout",
     "output_type": "stream",
     "text": [
      "{'ok': True, 'result': [{'update_id': 692845103, 'message': {'message_id': 1, 'from': {'id': 2114109195, 'is_bot': False, 'first_name': 'Modeo', 'last_name': 'Cheng', 'username': 'modeo_c', 'language_code': 'en'}, 'chat': {'id': 2114109195, 'first_name': 'Modeo', 'last_name': 'Cheng', 'username': 'modeo_c', 'type': 'private'}, 'date': 1679814439, 'text': '/start', 'entities': [{'offset': 0, 'length': 6, 'type': 'bot_command'}]}}, {'update_id': 692845104, 'message': {'message_id': 2, 'from': {'id': 2114109195, 'is_bot': False, 'first_name': 'Modeo', 'last_name': 'Cheng', 'username': 'modeo_c', 'language_code': 'en'}, 'chat': {'id': 2114109195, 'first_name': 'Modeo', 'last_name': 'Cheng', 'username': 'modeo_c', 'type': 'private'}, 'date': 1679814441, 'text': 'yo'}}, {'update_id': 692845105, 'message': {'message_id': 3, 'from': {'id': 2114109195, 'is_bot': False, 'first_name': 'Modeo', 'last_name': 'Cheng', 'username': 'modeo_c', 'language_code': 'en'}, 'chat': {'id': 2114109195, 'first_name': 'Modeo', 'last_name': 'Cheng', 'username': 'modeo_c', 'type': 'private'}, 'date': 1679814457, 'text': 'what is up'}}]}\n"
     ]
    }
   ],
   "source": [
    "import requests\n",
    "import os\n",
    "TOKEN = os.environ.get(\"TELEGRAM_BOT_TOKEN\")\n",
    "url = f\"https://api.telegram.org/bot{TOKEN}/getUpdates\"\n",
    "print(requests.get(url).json())"
   ]
  },
  {
   "cell_type": "code",
   "execution_count": 6,
   "metadata": {},
   "outputs": [
    {
     "name": "stdout",
     "output_type": "stream",
     "text": [
      "{'ok': True, 'result': {'message_id': 5, 'from': {'id': 6204666248, 'is_bot': True, 'first_name': 'test0', 'username': 'kasjdlasbot'}, 'chat': {'id': 2114109195, 'first_name': 'Modeo', 'last_name': 'Cheng', 'username': 'modeo_c', 'type': 'private'}, 'date': 1679814520, 'text': 'nihao'}}\n"
     ]
    }
   ],
   "source": [
    "chat_id = \"2114109195\"\n",
    "message = \"nihao\"\n",
    "url = f\"https://api.telegram.org/bot{TOKEN}/sendMessage?chat_id={chat_id}&text={message}\"\n",
    "print(requests.get(url).json()) # this sends the message"
   ]
  },
  {
   "cell_type": "code",
   "execution_count": null,
   "metadata": {},
   "outputs": [],
   "source": []
  }
 ],
 "metadata": {
  "kernelspec": {
   "display_name": "Python 3",
   "language": "python",
   "name": "python3"
  },
  "language_info": {
   "codemirror_mode": {
    "name": "ipython",
    "version": 3
   },
   "file_extension": ".py",
   "mimetype": "text/x-python",
   "name": "python",
   "nbconvert_exporter": "python",
   "pygments_lexer": "ipython3",
   "version": "3.8.2"
  },
  "orig_nbformat": 4
 },
 "nbformat": 4,
 "nbformat_minor": 2
}
