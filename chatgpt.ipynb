{
 "cells": [
  {
   "cell_type": "code",
   "execution_count": 9,
   "metadata": {},
   "outputs": [
    {
     "name": "stdout",
     "output_type": "stream",
     "text": [
      "\n",
      "This tweet thread is about a project which is a web3 game with 500k MC, and the user is suggesting that they are not a scam because their team has been working on PoW for a while. The user then moves on to talk about mutual fund investments and how they can be beneficial, as well as how it is hard to compare themselves to other people who might have more followers, money, etc. They acknowledge that these people could have struggles that are unseen, but still feels that they must be doing something wrong.\n"
     ]
    }
   ],
   "source": [
    "import langchain\n",
    "from langchain.llms import OpenAI\n",
    "import openai\n",
    "from langchain import PromptTemplate\n",
    "\n",
    "llm = OpenAI(temperature=0.9)\n",
    "\n",
    "# text = \"What would be a good company name for a company that makes colorful socks?\"\n",
    "# print(llm(text))\n",
    "\n",
    "tweets = [\"\"\"Next gem\n",
    "\n",
    "Some info & why i like it.\n",
    "\n",
    "100% not a scam, team is well known and has been grinding for a while with POW.\n",
    "\n",
    "Project is a web3 game which already has assets, minted out and getting ready for gameplay launch soon. \n",
    "\n",
    "500k MC \n",
    "\n",
    "Ill reveal soon if you cant figure it out\"\"\", \"\"\"the solution to this is MMFs that are non-prime but rather with a narrower mandate of govt treasury\n",
    "\n",
    "but if MMF access is an issue, short duration treasury ETFs via brokerage like SHV or BIL (americans)\"\"\", \"\"\"There is always someone with 100x amount of tokens from airdrops \n",
    "\n",
    "Someone with 100x followers \n",
    "\n",
    "Someone who is fitter younger and more successful than me \n",
    "\n",
    "Can’t help but think that they are better than me in a general sense. Better humans. \n",
    "\n",
    "I know I could never see behind close doors and learn about their struggles, yet my brain thinks i must be doing something wrong\"\"\"]\n",
    "\n",
    "template = \"\"\"Summarize the following tweets in a few sentences:\n",
    "\n",
    "{tweet1}\n",
    "\n",
    "{tweet2}\n",
    "\n",
    "{tweet3}\n",
    "\"\"\"\n",
    "\n",
    "prompt = PromptTemplate(\n",
    "    input_variables=[\"tweet1\", \"tweet2\", \"tweet3\"],\n",
    "    template=template,\n",
    ")\n",
    "\n",
    "# print(prompt.format(tweet1=tweets[0], tweet2=tweets[1], tweet3=tweets[2]))\n",
    "\n",
    "print(llm(prompt.format(tweet1=tweets[0], tweet2=tweets[1], tweet3=tweets[2])))\n"
   ]
  },
  {
   "cell_type": "code",
   "execution_count": null,
   "metadata": {},
   "outputs": [],
   "source": []
  }
 ],
 "metadata": {
  "kernelspec": {
   "display_name": "Python 3",
   "language": "python",
   "name": "python3"
  },
  "language_info": {
   "codemirror_mode": {
    "name": "ipython",
    "version": 3
   },
   "file_extension": ".py",
   "mimetype": "text/x-python",
   "name": "python",
   "nbconvert_exporter": "python",
   "pygments_lexer": "ipython3",
   "version": "3.8.2"
  },
  "orig_nbformat": 4
 },
 "nbformat": 4,
 "nbformat_minor": 2
}
