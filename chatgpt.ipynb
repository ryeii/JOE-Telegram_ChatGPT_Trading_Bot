{
 "cells": [
  {
   "cell_type": "code",
   "execution_count": 9,
   "metadata": {},
   "outputs": [
    {
     "name": "stdout",
     "output_type": "stream",
     "text": [
      "\n",
      "This tweet thread is about a project which is a web3 game with 500k MC, and the user is suggesting that they are not a scam because their team has been working on PoW for a while. The user then moves on to talk about mutual fund investments and how they can be beneficial, as well as how it is hard to compare themselves to other people who might have more followers, money, etc. They acknowledge that these people could have struggles that are unseen, but still feels that they must be doing something wrong.\n"
     ]
    }
   ],
   "source": [
    "import langchain\n",
    "from langchain.llms import OpenAI\n",
    "import openai\n",
    "from langchain import PromptTemplate\n",
    "\n",
    "llm = OpenAI(temperature=0.9)\n",
    "\n",
    "template = \"\"\"Summarize the following tweets in a few sentences:\\n\\n{tweets}\\n\\n\"\"\"\n",
    "\n",
    "def Get_Summary(tweets):\n",
    "    return llm(prompt.format(tweets=tweets))\n",
    "\n",
    "prompt = PromptTemplate(\n",
    "    input_variables=[\"tweets\"],\n",
    "    template=template,\n",
    ")\n",
    "\n",
    "# print(prompt.format(tweet1=tweets[0], tweet2=tweets[1], tweet3=tweets[2]))\n",
    "\n",
    "print(llm(prompt.format(tweets=tweets)))\n"
   ]
  },
  {
   "cell_type": "code",
   "execution_count": null,
   "metadata": {},
   "outputs": [],
   "source": []
  }
 ],
 "metadata": {
  "kernelspec": {
   "display_name": "Python 3",
   "language": "python",
   "name": "python3"
  },
  "language_info": {
   "codemirror_mode": {
    "name": "ipython",
    "version": 3
   },
   "file_extension": ".py",
   "mimetype": "text/x-python",
   "name": "python",
   "nbconvert_exporter": "python",
   "pygments_lexer": "ipython3",
   "version": "3.8.2"
  },
  "orig_nbformat": 4
 },
 "nbformat": 4,
 "nbformat_minor": 2
}
