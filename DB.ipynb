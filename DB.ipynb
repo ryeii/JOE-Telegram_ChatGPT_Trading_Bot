{
 "cells": [
  {
   "cell_type": "code",
   "execution_count": null,
   "metadata": {},
   "outputs": [],
   "source": [
    "import pandas as pd\n",
    "\n",
    "# create a dataframe with columns [KOL, Users, Threads]\n",
    "df = pd.DataFrame(columns=['KOL', 'Users', 'Threads'])\n",
    "\n",
    "chat_id = pd.DataFrame(columns=['Username', 'chat_id'])\n",
    "\n",
    "# add example entries\n",
    "df.loc[0] = ['@xyz', ['Ryan', 'Modeo'], ['xyzThread1', 'xyzThread2']]\n",
    "df.loc[1] = ['@abc', ['Ryan'], ['abcThread1', 'abcThread2']]\n",
    "df.loc[2] = ['@123', ['Modeo'], ['123Thread1', '123Thread2']]\n",
    "\n",
    "chat_id.loc[0] = ['Modeo', '2114109195']\n",
    "\n",
    "# save dataframe to csv\n",
    "df.to_csv('KOL.csv', index=False)\n",
    "chat_id.to_csv('chat_id.csv', index=False)"
   ]
  }
 ],
 "metadata": {
  "language_info": {
   "name": "python"
  },
  "orig_nbformat": 4
 },
 "nbformat": 4,
 "nbformat_minor": 2
}
