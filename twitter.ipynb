{
 "cells": [
  {
   "cell_type": "code",
   "execution_count": 1,
   "metadata": {},
   "outputs": [
    {
     "ename": "ModuleNotFoundError",
     "evalue": "No module named 'tweepy'",
     "output_type": "error",
     "traceback": [
      "\u001b[0;31m---------------------------------------------------------------------------\u001b[0m",
      "\u001b[0;31mModuleNotFoundError\u001b[0m                       Traceback (most recent call last)",
      "\u001b[1;32m/Users/modeo/Desktop/JOE-Telegram_ChatGPT_Trading_Bot/twitter.ipynb Cell 1\u001b[0m in \u001b[0;36m<module>\u001b[0;34m\u001b[0m\n\u001b[0;32m----> <a href='vscode-notebook-cell:/Users/modeo/Desktop/JOE-Telegram_ChatGPT_Trading_Bot/twitter.ipynb#W0sZmlsZQ%3D%3D?line=0'>1</a>\u001b[0m \u001b[39mimport\u001b[39;00m \u001b[39mtweepy\u001b[39;00m\n\u001b[1;32m      <a href='vscode-notebook-cell:/Users/modeo/Desktop/JOE-Telegram_ChatGPT_Trading_Bot/twitter.ipynb#W0sZmlsZQ%3D%3D?line=2'>3</a>\u001b[0m consumer_key \u001b[39m=\u001b[39m \u001b[39m'\u001b[39m\u001b[39myour consumer key\u001b[39m\u001b[39m'\u001b[39m\n\u001b[1;32m      <a href='vscode-notebook-cell:/Users/modeo/Desktop/JOE-Telegram_ChatGPT_Trading_Bot/twitter.ipynb#W0sZmlsZQ%3D%3D?line=3'>4</a>\u001b[0m consumer_secret \u001b[39m=\u001b[39m \u001b[39m'\u001b[39m\u001b[39myour consumer secret\u001b[39m\u001b[39m'\u001b[39m\n",
      "\u001b[0;31mModuleNotFoundError\u001b[0m: No module named 'tweepy'"
     ]
    }
   ],
   "source": [
    "import tweepy\n",
    "\n",
    "consumer_key = 'your consumer key'\n",
    "consumer_secret = 'your consumer secret'\n",
    "access_token = 'your access token'\n",
    "access_token_secret = 'your access token secret'\n",
    "\n",
    "auth = tweepy.OAuth1UserHandler(\n",
    "   consumer_key, consumer_secret, access_token, access_token_secret\n",
    ")\n",
    "\n",
    "api = tweepy.API(auth)\n",
    "\n",
    "public_tweets = api.home_timeline()\n",
    "for tweet in public_tweets:\n",
    "    print(tweet.text)"
   ]
  }
 ],
 "metadata": {
  "kernelspec": {
   "display_name": "Python 3",
   "language": "python",
   "name": "python3"
  },
  "language_info": {
   "codemirror_mode": {
    "name": "ipython",
    "version": 3
   },
   "file_extension": ".py",
   "mimetype": "text/x-python",
   "name": "python",
   "nbconvert_exporter": "python",
   "pygments_lexer": "ipython3",
   "version": "3.9.6"
  },
  "orig_nbformat": 4
 },
 "nbformat": 4,
 "nbformat_minor": 2
}
